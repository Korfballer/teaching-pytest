{
 "cells": [
  {
   "cell_type": "markdown",
   "metadata": {},
   "source": [
    "# Unit Testing with PyTest"
   ]
  },
  {
   "attachments": {},
   "cell_type": "markdown",
   "metadata": {},
   "source": [
    "## 1. Introduction\n",
    "\n",
    "### 1.1 Objective\n",
    "\n",
    "The main purpose of this repository is to demonstrate how to use PyTest.\n",
    "\n",
    "### 1.2 Extras\n",
    "\n",
    "The repository has also been structured as a \"modern\" python package so provides an example template of how to package up code for PyPI.\n",
    "\n",
    "For those less familiar with the structure of python packages, a brief description of each \"key\" file and folder has been included below.\n",
    "\n",
    "Folders:\n",
    "* `.vscode/` - Folder to house configuration for Visual Studio Code\n",
    "* `notebooks/` - Stores notebooks like this\n",
    "* `superhelpful/` - Stores code to be packaged up\n",
    "* `tests/` - Stores tests (some people prefer to put this into the package folder)\n",
    "\n",
    "Files:\n",
    "* `.gitignore` - Tells git which files to exclude from version control\n",
    "* `.pre-commit-config.yaml` - Defines linting checks made by pre-commit; this ensures that code meets a set standard before it can be committed\n",
    "* `.pyproject.toml` - Defines the setup for the package (`setup.py` pulls the information from here when building the package)\n",
    "* `.vscode/settings.json` - Configures Visual Studio Code\n",
    "* `LICENSE` - Software license for the repository\n",
    "* `README.md` - Useful information about the repository\n",
    "* `requirements.txt` - Requirements for using the package\n",
    "* `requirements-dev.txt` - Requirements for *development* of the package\n",
    "* `setup.py` - Builds the package\n",
    "\n",
    "Files excluded for simplicity:\n",
    "* `CHANGELOG.md` - List of changes between each version\n",
    "* `requirements.txt` - Requirements for using the package\n",
    "* Many more files...\n",
    "\n",
    "Caveats:\n",
    "* Repository written in a Windows environment (not Linux!)"
   ]
  },
  {
   "attachments": {},
   "cell_type": "markdown",
   "metadata": {},
   "source": [
    "## 2. Scope"
   ]
  },
  {
   "attachments": {},
   "cell_type": "markdown",
   "metadata": {},
   "source": [
    "In scope:\n",
    "* Plain asserts `assert actual == expected`\n",
    "* `pandas` and `numpy` testing functionality\n",
    "* Fixtures (including scope)\n",
    "* Parametrization\n",
    "* Checking code raises an error\n",
    "* Configuring tests via conftest.py\n",
    "\n",
    "Out of scope:\n",
    "* Testing APIs\n",
    "* Mocking (micro)services"
   ]
  }
 ],
 "metadata": {
  "kernelspec": {
   "display_name": "venv",
   "language": "python",
   "name": "python3"
  },
  "language_info": {
   "codemirror_mode": {
    "name": "ipython",
    "version": 3
   },
   "file_extension": ".py",
   "mimetype": "text/x-python",
   "name": "python",
   "nbconvert_exporter": "python",
   "pygments_lexer": "ipython3",
   "version": "3.10.2"
  },
  "vscode": {
   "interpreter": {
    "hash": "61c87191d047421948bb0654f17b0eff2f9fb60aeb109858617e880716575119"
   }
  }
 },
 "nbformat": 4,
 "nbformat_minor": 2
}
